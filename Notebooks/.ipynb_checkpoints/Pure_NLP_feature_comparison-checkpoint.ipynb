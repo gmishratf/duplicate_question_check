{
 "cells": [
  {
   "cell_type": "code",
   "execution_count": 1,
   "metadata": {
    "collapsed": true
   },
   "outputs": [],
   "source": [
    "import pandas as pd\n",
    "import numpy as np\n",
    "from tqdm import tqdm\n",
    "from sklearn.feature_extraction.text import CountVectorizer\n",
    "from scipy.spatial.distance import euclidean, cosine\n",
    "import math\n",
    "from collections import Counter"
   ]
  },
  {
   "cell_type": "code",
   "execution_count": 2,
   "metadata": {
    "collapsed": true
   },
   "outputs": [],
   "source": [
    "def pre_process(l1, l2):\n",
    "    s1 = ' '.join(l1)\n",
    "    s2 = ' '.join(l2)\n",
    "    return s1, s2"
   ]
  },
  {
   "cell_type": "code",
   "execution_count": 3,
   "metadata": {
    "collapsed": true
   },
   "outputs": [],
   "source": [
    "def get_vectors(q1, q2):\n",
    "    s1, s2 = pre_process(q1, q2)\n",
    "    v = CountVectorizer(stop_words=None, token_pattern=r\"(?u)\\b\\w+\\b\").fit([s1, s2])\n",
    "    vec1, vec2 = v.transform([s1, s2])\n",
    "    v1 = vec1.toarray().ravel()\n",
    "    v2 = vec2.toarray().ravel()\n",
    "    return v1, v2"
   ]
  },
  {
   "cell_type": "code",
   "execution_count": 4,
   "metadata": {
    "collapsed": true
   },
   "outputs": [],
   "source": [
    "def normalize(vec):\n",
    "    n = np.linalg.norm(vec)\n",
    "    if n == 0:\n",
    "        return vec\n",
    "    return vec/n"
   ]
  },
  {
   "cell_type": "code",
   "execution_count": 5,
   "metadata": {
    "collapsed": true
   },
   "outputs": [],
   "source": [
    "def similar(q1, q2):\n",
    "    v1, v2 = get_vectors(q1, q2)\n",
    "    cos = cosine(v1, v2)\n",
    "    if(cos<-1):\n",
    "        deg = math.degrees(math.acos(-1))\n",
    "    elif(cos>1):\n",
    "        deg = math.degrees(math.acos(1))\n",
    "    else:\n",
    "        deg = math.degrees(math.acos(cos))\n",
    "    return euclidean(v1, v2), cos, deg"
   ]
  },
  {
   "cell_type": "code",
   "execution_count": 6,
   "metadata": {
    "collapsed": true
   },
   "outputs": [],
   "source": [
    "def similarities(q1, q2):\n",
    "    sim_features = [0.0]*3\n",
    "    sim_features[0], sim_features[1], sim_features[2] = similar(q1, q2)\n",
    "    return sim_features"
   ]
  },
  {
   "cell_type": "code",
   "execution_count": 7,
   "metadata": {
    "collapsed": true
   },
   "outputs": [],
   "source": [
    "def alpha_similar(q1, q2):\n",
    "    if(len(set(q1))!=1 | len(set(q2))!=1 ):\n",
    "        c = sum(1 for j in q1 if j==0) + sum(1 for j in q2 if j==0)\n",
    "        return c\n",
    "    else:\n",
    "        return 0"
   ]
  },
  {
   "cell_type": "code",
   "execution_count": 8,
   "metadata": {
    "collapsed": true
   },
   "outputs": [],
   "source": [
    "def insert_features(df, similar_df):\n",
    "    n = len(similar_df.columns)\n",
    "    for i in tqdm(range(len(df['lemma_1'])), desc=\"GENERATING VALUES\"):\n",
    "        f = np.empty(n) * np.nan\n",
    "        f[0], f[1], f[2] = similarities(df['lemma_1'][i], df['lemma_2'][i])\n",
    "        f[3], f[4], f[5] = similarities(df['POS_1'][i], df['POS_2'][i])\n",
    "        f[6], f[7], f[8] = similarities(df['dependency_1'][i], df['dependency_2'][i])\n",
    "        f[9] = alpha_similar(df['alpha_1'][i], df['alpha_2'][i])\n",
    "        similar_df.loc[len(similar_df)] = f   "
   ]
  },
  {
   "cell_type": "code",
   "execution_count": 9,
   "metadata": {
    "collapsed": true
   },
   "outputs": [],
   "source": [
    "df_1 = pd.read_pickle('../Features/Test/Test_nlp_features_1', compression='gzip')\n",
    "df_2 = pd.read_pickle('../Features/Test/Test_nlp_features_2', compression='gzip')"
   ]
  },
  {
   "cell_type": "code",
   "execution_count": 10,
   "metadata": {
    "collapsed": true
   },
   "outputs": [],
   "source": [
    "df = pd.DataFrame()\n",
    "for i in df_1.columns:\n",
    "    df[i+'_1'] = df_1[i]\n",
    "    df[i+'_2'] = df_2[i]"
   ]
  },
  {
   "cell_type": "code",
   "execution_count": 11,
   "metadata": {
    "collapsed": true
   },
   "outputs": [],
   "source": [
    "del df_1, df_2"
   ]
  },
  {
   "cell_type": "code",
   "execution_count": 12,
   "metadata": {
    "collapsed": true
   },
   "outputs": [],
   "source": [
    "similar_df = pd.DataFrame(columns=['lemma_euc', 'lemma_cos', 'lemma_deg',\n",
    "                                   'POS_euc', 'POS_cos', 'POS_deg', \n",
    "                                   'dep_euc', 'dep_cos', 'dep_deg',\n",
    "                                   'alpha_diff'])"
   ]
  },
  {
   "cell_type": "code",
   "execution_count": 13,
   "metadata": {},
   "outputs": [
    {
     "name": "stderr",
     "output_type": "stream",
     "text": [
      "GENERATING VALUES:   5%|██▋                                                    | 20053/404290 [01:01<19:29, 328.53it/s]D:\\ProgramData\\Anaconda3\\lib\\site-packages\\scipy\\spatial\\distance.py:644: RuntimeWarning: invalid value encountered in double_scalars\n",
      "  dist = 1.0 - uv / np.sqrt(uu * vv)\n",
      "GENERATING VALUES: 100%|█████████████████████████████████████████████████████| 404290/404290 [2:21:52<00:00, 47.49it/s]\n"
     ]
    }
   ],
   "source": [
    "insert_features(df, similar_df)"
   ]
  },
  {
   "cell_type": "code",
   "execution_count": 14,
   "metadata": {
    "collapsed": true
   },
   "outputs": [],
   "source": [
    "similar_df.to_pickle('../Features/Test/Pure_NLP_comparision', compression='gzip')"
   ]
  },
  {
   "cell_type": "code",
   "execution_count": 15,
   "metadata": {
    "collapsed": true
   },
   "outputs": [],
   "source": [
    "similar_df.to_csv('../Features/Test/Pure_NLP_comparision.csv')"
   ]
  }
 ],
 "metadata": {
  "kernelspec": {
   "display_name": "Python 3",
   "language": "python",
   "name": "python3"
  },
  "language_info": {
   "codemirror_mode": {
    "name": "ipython",
    "version": 3
   },
   "file_extension": ".py",
   "mimetype": "text/x-python",
   "name": "python",
   "nbconvert_exporter": "python",
   "pygments_lexer": "ipython3",
   "version": "3.6.3"
  }
 },
 "nbformat": 4,
 "nbformat_minor": 2
}
