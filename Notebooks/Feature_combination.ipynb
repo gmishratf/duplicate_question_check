{
 "cells": [
  {
   "cell_type": "code",
   "execution_count": 1,
   "metadata": {},
   "outputs": [],
   "source": [
    "import numpy as np\n",
    "import pandas as pd"
   ]
  },
  {
   "cell_type": "code",
   "execution_count": 2,
   "metadata": {},
   "outputs": [],
   "source": [
    "df_fuzz = pd.read_pickle('../Features/Train/Fuzz_stat_features', compression='gzip')\n",
    "df_graph = pd.read_pickle('../Features/Train/Graph_features', compression='gzip')\n",
    "df_inter = pd.read_pickle('../Features/Train/Inter_features', compression='gzip')\n",
    "df_inter_c = pd.read_pickle('../Features/Train/Inter_features_cleaned', compression='gzip')\n",
    "df_magic = pd.read_pickle('../Features/Train/Magic_features_uncleaned', compression='gzip')\n",
    "df_magic_c = pd.read_pickle('../Features/Train/Magic_features_cleaned', compression='gzip')\n",
    "df_ng = pd.read_pickle('../Features/Train/N_grams', compression='gzip')\n",
    "df_ner = pd.read_pickle('../Features/Train/NER_tags', compression='gzip')\n",
    "df_stat_pc = pd.read_csv('../Features/Train/Pre_clean_count_features_train.csv')\n",
    "df_gf_pc = pd.read_csv('../Features/Train/Pre_clean_graph_fuzz_features_train.csv')\n",
    "df_sem = pd.read_pickle('../Features/Train/Semantic_features', compression='gzip')\n",
    "df_stat = pd.read_pickle('../Features/Train/Statistical_features', compression='gzip')"
   ]
  },
  {
   "cell_type": "code",
   "execution_count": 3,
   "metadata": {},
   "outputs": [],
   "source": [
    "df_t = pd.concat([df_fuzz, df_graph, df_inter, df_inter_c, df_magic, df_magic_c, df_ng, df_ner, df_stat_pc, df_gf_pc, df_sem, df_stat], axis=1)"
   ]
  },
  {
   "cell_type": "code",
   "execution_count": 4,
   "metadata": {},
   "outputs": [],
   "source": [
    "df_t.drop('is_duplicate', axis=1, inplace=True)"
   ]
  },
  {
   "cell_type": "code",
   "execution_count": null,
   "metadata": {},
   "outputs": [],
   "source": [
    "len(df_test.columns)"
   ]
  },
  {
   "cell_type": "code",
   "execution_count": 5,
   "metadata": {},
   "outputs": [],
   "source": [
    "test_df_fuzz = pd.read_pickle('../Features/Test/Fuzz_stat_features', compression='gzip')\n",
    "test_df_graph = pd.read_pickle('../Features/Test/Graph_features', compression='gzip')\n",
    "test_df_inter = pd.read_pickle('../Features/Test/Inter_features', compression='gzip')\n",
    "test_df_inter_c = pd.read_pickle('../Features/Test/Inter_features_cleaned', compression='gzip')\n",
    "test_df_magic = pd.read_pickle('../Features/Test/Magic_features_uncleaned', compression='gzip')\n",
    "test_df_magic_c = pd.read_pickle('../Features/Test/Magic_features_cleaned', compression='gzip')\n",
    "test_df_ng = pd.read_pickle('../Features/Test/N_grams', compression='gzip')\n",
    "test_df_ner = pd.read_pickle('../Features/Test/NER_tags', compression='gzip')\n",
    "test_df_stat_pc = pd.read_csv('../Features/Test/Pre_clean_count_features_test.csv')\n",
    "test_df_gf_pc = pd.read_csv('../Features/Test/Pre_clean_graph_fuzz_features_test.csv')\n",
    "test_df_sem = pd.read_pickle('../Features/Test/Semantic_features', compression='gzip')\n",
    "test_df_stat = pd.read_pickle('../Features/Test/Statistical_features', compression='gzip')"
   ]
  },
  {
   "cell_type": "code",
   "execution_count": 6,
   "metadata": {},
   "outputs": [],
   "source": [
    "df_test = pd.concat([test_df_fuzz, test_df_graph, test_df_inter, test_df_inter_c, test_df_magic, test_df_magic_c, test_df_ng, test_df_ner, test_df_stat_pc, test_df_gf_pc, test_df_sem, test_df_stat], axis=1)"
   ]
  },
  {
   "cell_type": "code",
   "execution_count": 7,
   "metadata": {},
   "outputs": [],
   "source": [
    "df_t.drop(['question1', 'question2'], axis=1, inplace=True)"
   ]
  },
  {
   "cell_type": "code",
   "execution_count": 8,
   "metadata": {},
   "outputs": [],
   "source": [
    "df_test.drop(['question1', 'question2'], axis=1, inplace=True)"
   ]
  },
  {
   "cell_type": "code",
   "execution_count": 9,
   "metadata": {},
   "outputs": [
    {
     "data": {
      "text/plain": [
       "75"
      ]
     },
     "execution_count": 9,
     "metadata": {},
     "output_type": "execute_result"
    }
   ],
   "source": [
    "len(df_t.columns)"
   ]
  },
  {
   "cell_type": "code",
   "execution_count": 10,
   "metadata": {},
   "outputs": [
    {
     "data": {
      "text/plain": [
       "75"
      ]
     },
     "execution_count": 10,
     "metadata": {},
     "output_type": "execute_result"
    }
   ],
   "source": [
    "len(df_test.columns)"
   ]
  },
  {
   "cell_type": "code",
   "execution_count": 11,
   "metadata": {},
   "outputs": [],
   "source": [
    "df_t.to_pickle('../Features/Train/Train_Features', compression='gzip')\n",
    "df_t.to_csv('../Features/Train/Train_Features.csv', index=False)"
   ]
  },
  {
   "cell_type": "code",
   "execution_count": 12,
   "metadata": {},
   "outputs": [],
   "source": [
    "df_test.to_pickle('../Features/Test/Test_Features', compression='gzip')\n",
    "df_test.to_csv('../Features/Test/Test_Features.csv', index=False)"
   ]
  },
  {
   "cell_type": "code",
   "execution_count": null,
   "metadata": {},
   "outputs": [],
   "source": []
  },
  {
   "cell_type": "code",
   "execution_count": null,
   "metadata": {},
   "outputs": [],
   "source": []
  },
  {
   "cell_type": "code",
   "execution_count": null,
   "metadata": {},
   "outputs": [],
   "source": [
    "z = np.append(x,t,1)"
   ]
  },
  {
   "cell_type": "code",
   "execution_count": null,
   "metadata": {},
   "outputs": [],
   "source": [
    "z"
   ]
  },
  {
   "cell_type": "code",
   "execution_count": null,
   "metadata": {},
   "outputs": [],
   "source": [
    "z_ = np.hstack((x,t))"
   ]
  },
  {
   "cell_type": "code",
   "execution_count": null,
   "metadata": {},
   "outputs": [],
   "source": [
    "z_"
   ]
  },
  {
   "cell_type": "code",
   "execution_count": null,
   "metadata": {},
   "outputs": [],
   "source": []
  }
 ],
 "metadata": {
  "kernelspec": {
   "display_name": "Python 3",
   "language": "python",
   "name": "python3"
  },
  "language_info": {
   "codemirror_mode": {
    "name": "ipython",
    "version": 3
   },
   "file_extension": ".py",
   "mimetype": "text/x-python",
   "name": "python",
   "nbconvert_exporter": "python",
   "pygments_lexer": "ipython3",
   "version": "3.6.3"
  }
 },
 "nbformat": 4,
 "nbformat_minor": 2
}
