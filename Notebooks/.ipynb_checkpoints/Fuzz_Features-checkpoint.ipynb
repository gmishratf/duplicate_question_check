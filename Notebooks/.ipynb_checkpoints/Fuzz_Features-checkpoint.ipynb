{
 "cells": [
  {
   "cell_type": "code",
   "execution_count": 1,
   "metadata": {},
   "outputs": [
    {
     "name": "stderr",
     "output_type": "stream",
     "text": [
      "D:\\ProgramData\\Anaconda3\\lib\\site-packages\\fuzzywuzzy\\fuzz.py:35: UserWarning: Using slow pure-python SequenceMatcher. Install python-Levenshtein to remove this warning\n",
      "  warnings.warn('Using slow pure-python SequenceMatcher. Install python-Levenshtein to remove this warning')\n"
     ]
    }
   ],
   "source": [
    "import re\n",
    "import spacy\n",
    "import pandas as pd\n",
    "import numpy as np\n",
    "from tqdm import tqdm\n",
    "from nltk.corpus import stopwords\n",
    "from nltk import word_tokenize\n",
    "from fuzzywuzzy import fuzz\n",
    "import distance"
   ]
  },
  {
   "cell_type": "code",
   "execution_count": 2,
   "metadata": {
    "collapsed": true
   },
   "outputs": [],
   "source": [
    "STOP_WORDS = ['it', 'is', 'the', 'had', 'have', 'has', 'i', 'a', 'and', 'our', 'are', \n",
    "              'you', 'do', 'my', 'am', 'were', 'was', 'by', 'until', 'but', 'my', \n",
    "              'myself', 'itself', 'them', 'themself', 'themselves', 'at', 'ours', \n",
    "              'do', 'his', 'ourself', 'ourselves', 'must', 'we', 'be', 'here', 'there', \n",
    "              'some', 'for', 'while', 'should', 'her', 'hers', 'their', 'theirs', 'by', \n",
    "              'on', 'about', 'could', 'would', 'of', 'against', 'more', 'him', 'that', \n",
    "              'with', 'than', 'those', 'he', 'me', 'in', 'any', 'if', 'again', 'no', \n",
    "              'same', 'other', 'such', 'a', 'yours', 'your', 'so', 'having', 'once'] "
   ]
  },
  {
   "cell_type": "code",
   "execution_count": 3,
   "metadata": {
    "collapsed": true
   },
   "outputs": [],
   "source": [
    "nlp = spacy.load('en_core_web_lg')"
   ]
  },
  {
   "cell_type": "code",
   "execution_count": 4,
   "metadata": {},
   "outputs": [],
   "source": [
    "def pure_nlp(train, nlp_df, q_col):\n",
    "    l_list = []\n",
    "    p_list = []\n",
    "    d_list = []\n",
    "    a_list = []\n",
    "    for i in tqdm(range(len(train)), desc='For {} column'.format(q_col)):\n",
    "        lemma_list = []\n",
    "        pos_list = []\n",
    "        dep_list = []\n",
    "        is_alpha_tag = []\n",
    "        text = nlp(train[i])\n",
    "        for j in range(len(text)):\n",
    "            lemma_list.append(text[j].lemma_)\n",
    "            pos_list.append(text[j].pos_)\n",
    "            dep_list.append(text[j].dep_)\n",
    "            if(text[j].is_alpha==True):\n",
    "                is_alpha_tag.append(1)\n",
    "            else:\n",
    "                is_alpha_tag.append(0)\n",
    "        l_list.append(lemma_list)\n",
    "        p_list.append(pos_list)\n",
    "        d_list.append(dep_list)\n",
    "        a_list.append(is_alpha_tag)\n",
    "    nlp_df['lemma'] = l_list\n",
    "    nlp_df['POS'] = p_list\n",
    "    nlp_df['dependency'] = d_list\n",
    "    nlp_df['alpha'] = a_list"
   ]
  },
  {
   "cell_type": "code",
   "execution_count": 9,
   "metadata": {},
   "outputs": [],
   "source": [
    "def get_pair_features(q1, q2):\n",
    "    pair_features = [0.0]*8\n",
    "    t_1 = word_tokenize(q1)\n",
    "    t_2 = word_tokenize(q2)\n",
    "    if len(t_1) == 0 or len(t_2) == 0:\n",
    "        return pair_features\n",
    "    w_1 = set(t_1)\n",
    "    w_2 = set(t_2)\n",
    "    w_count = len(w_1.intersection(w_2))\n",
    "    t_count = len(set(t_1).intersection(set(t_2)))\n",
    "    pair_features[0] = w_count/(min(len(w_1), len(w_2)) + 0.01)\n",
    "    pair_features[1] = w_count/(min(len(w_1), len(w_2)) + 0.01)\n",
    "    pair_features[2] = t_count/(min(len(t_1), len(t_2)) + 0.01)\n",
    "    pair_features[3] = t_count/(max(len(t_1), len(t_2)) + 0.01)\n",
    "    pair_features[4] = int(t_1[-1] == t_2[-1])\n",
    "    pair_features[5] = int(t_1[0] == t_2[0])\n",
    "    pair_features[6] = abs(len(t_1) - len(t_2))\n",
    "    pair_features[7] = (len(t_1) + len(t_2))/2\n",
    "    return pair_features"
   ]
  },
  {
   "cell_type": "code",
   "execution_count": 10,
   "metadata": {},
   "outputs": [],
   "source": [
    "def longest_substring_ratio(s1, s2):\n",
    "    strs = list(distance.lcsubstrings(s1, s2))\n",
    "    if len(strs) == 0:\n",
    "        return 0\n",
    "    else:\n",
    "        return len(strs[0])/(min(len(s1), len(s2)) + 1)"
   ]
  },
  {
   "cell_type": "code",
   "execution_count": null,
   "metadata": {
    "collapsed": true
   },
   "outputs": [],
   "source": [
    "def insert_features(train_df, nlp_df):\n",
    "    pair_features = train_df.apply(lambda x: get_pair_features(x['question1'], x['question2']), axis=1)\n",
    "    nlp_df['min_common_word_count'] = list(map(lambda x: x[0], pair_features))\n",
    "    nlp_df['max_common_word_count'] = list(map(lambda x: x[1], pair_features))\n",
    "    nlp_df['min_common_token_count'] = list(map(lambda x: x[2], pair_features))\n",
    "    nlp_df['max_common_token_count'] = list(map(lambda x: x[3], pair_features))\n",
    "    nlp_df['last_token_check'] = list(map(lambda x: x[4], pair_features))\n",
    "    nlp_df['first_token_check'] = list(map(lambda x: x[5], pair_features))\n",
    "    nlp_df['diff_tokens']"
   ]
  }
 ],
 "metadata": {
  "kernelspec": {
   "display_name": "Python 3",
   "language": "python",
   "name": "python3"
  },
  "language_info": {
   "codemirror_mode": {
    "name": "ipython",
    "version": 3
   },
   "file_extension": ".py",
   "mimetype": "text/x-python",
   "name": "python",
   "nbconvert_exporter": "python",
   "pygments_lexer": "ipython3",
   "version": "3.6.3"
  }
 },
 "nbformat": 4,
 "nbformat_minor": 2
}
