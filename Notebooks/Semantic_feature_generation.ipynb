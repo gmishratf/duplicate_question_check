{
 "cells": [
  {
   "cell_type": "code",
   "execution_count": null,
   "metadata": {
    "collapsed": true
   },
   "outputs": [],
   "source": [
    "import numpy as np\n",
    "import pandas as pd\n",
    "import spacy\n",
    "import cython\n",
    "import math\n",
    "from tqdm import tqdm\n",
    "from sklearn.feature_extraction.text import TfidfVectorizer\n",
    "from scipy.spatial.distance import euclidean, cosine, canberra, correlation"
   ]
  },
  {
   "cell_type": "code",
   "execution_count": null,
   "metadata": {
    "collapsed": true
   },
   "outputs": [],
   "source": [
    "sem_list = ['euclidean', 'cosine', 'cosine_angle', 'canberra', 'correlation']\n",
    "df_sem = pd.DataFrame(columns=sem_list)"
   ]
  },
  {
   "cell_type": "code",
   "execution_count": null,
   "metadata": {
    "collapsed": true
   },
   "outputs": [],
   "source": [
    "START_INDEX = 0\n",
    "END_INDEX = 500000\n",
    "NUMBER_OF_FEATURES = len(df_sem.columns)"
   ]
  },
  {
   "cell_type": "code",
   "execution_count": null,
   "metadata": {
    "collapsed": true
   },
   "outputs": [],
   "source": [
    "print('LOADING TRAINING DATA')"
   ]
  },
  {
   "cell_type": "code",
   "execution_count": null,
   "metadata": {
    "collapsed": true
   },
   "outputs": [],
   "source": [
    "train_data = pd.read_csv(\"../Data/test_cleaned.csv\")\n",
    "df = train_data[START_INDEX:END_INDEX] \n",
    "#df = pd.read_csv(\"../Data/train_cleaned.csv\")\n",
    "df.fillna('NO QUESTION', inplace=True)\n",
    "print('LOADING DONE ')#+str(START_INDEX))\n",
    "#del train_data"
   ]
  },
  {
   "cell_type": "code",
   "execution_count": null,
   "metadata": {
    "collapsed": true
   },
   "outputs": [],
   "source": [
    "print('LOADING WORDNET')"
   ]
  },
  {
   "cell_type": "code",
   "execution_count": null,
   "metadata": {
    "collapsed": true
   },
   "outputs": [],
   "source": [
    "nlp = spacy.load('en_core_web_lg')\n",
    "print('WORDNET LOADED')"
   ]
  },
  {
   "cell_type": "code",
   "execution_count": null,
   "metadata": {
    "collapsed": true
   },
   "outputs": [],
   "source": [
    "print(\"PERFORMING TFIDF ANALYSIS\")"
   ]
  },
  {
   "cell_type": "code",
   "execution_count": null,
   "metadata": {
    "collapsed": true
   },
   "outputs": [],
   "source": [
    "questions = list(df['question1']) + list(df['question2'])\n",
    "tfidf = TfidfVectorizer(lowercase=False,)\n",
    "tfidf.fit_transform(questions)\n",
    "word2tfidf = dict(zip(tfidf.get_feature_names(), tfidf.idf_))\n",
    "print('TFIDF ANALYSIS DONE')"
   ]
  },
  {
   "cell_type": "code",
   "execution_count": null,
   "metadata": {
    "collapsed": true
   },
   "outputs": [],
   "source": [
    "def normalize(vec):\n",
    "    n = np.linalg.norm(vec)\n",
    "    if n == 0:\n",
    "        return vec\n",
    "    return vec/n"
   ]
  },
  {
   "cell_type": "code",
   "execution_count": null,
   "metadata": {
    "collapsed": true
   },
   "outputs": [],
   "source": [
    "def sent2vec(q1, q2):\n",
    "    doc_1 = nlp(q1)\n",
    "    doc_2 = nlp(q2)\n",
    "    m_1 = np.zeros([len(doc_1), 300])\n",
    "    m_2 = np.zeros([len(doc_2), 300])\n",
    "    for word in doc_1:\n",
    "        vec = word.vector\n",
    "        try:\n",
    "            idf = word2tfidf[str(word)]\n",
    "        except:\n",
    "            idf = 0\n",
    "        m_1 += vec * idf\n",
    "    m_1 = m_1.mean(axis=0)\n",
    "    for word in doc_2:\n",
    "        vec = word.vector\n",
    "        try:\n",
    "            idf = word2tfidf[str(word)]\n",
    "        except:\n",
    "            idf = 0\n",
    "        m_2 += vec * idf\n",
    "    m_2 = m_2.mean(axis=0)\n",
    "    \n",
    "    return normalize(m_1), normalize(m_2)"
   ]
  },
  {
   "cell_type": "code",
   "execution_count": null,
   "metadata": {
    "collapsed": true
   },
   "outputs": [],
   "source": [
    "def similar(q1, q2):\n",
    "    v1, v2 = sent2vec(q1, q2)\n",
    "    cos = cosine(v1, v2)\n",
    "    return euclidean(v1, v2), cos, math.degrees(math.acos(cos)), canberra(v1, v2), correlation(v1, v2)"
   ]
  },
  {
   "cell_type": "code",
   "execution_count": null,
   "metadata": {
    "collapsed": true
   },
   "outputs": [],
   "source": [
    "for i in tqdm(range(START_INDEX, START_INDEX+len(df['question1'])), desc='CREATING SEMANTIC FEATURES'):\n",
    "    feature = np.empty(NUMBER_OF_FEATURES) * np.nan\n",
    "    feature[0], feature[1], feature[2], feature[3], feature[4]= similar(df['question1'][i], df['question2'][i])\n",
    "    df_sem.loc[len(df_sem)] = feature"
   ]
  },
  {
   "cell_type": "code",
   "execution_count": null,
   "metadata": {
    "collapsed": true
   },
   "outputs": [],
   "source": []
  },
  {
   "cell_type": "code",
   "execution_count": null,
   "metadata": {
    "collapsed": true
   },
   "outputs": [],
   "source": []
  },
  {
   "cell_type": "code",
   "execution_count": null,
   "metadata": {
    "collapsed": true
   },
   "outputs": [],
   "source": []
  },
  {
   "cell_type": "code",
   "execution_count": null,
   "metadata": {
    "collapsed": true
   },
   "outputs": [],
   "source": []
  },
  {
   "cell_type": "code",
   "execution_count": null,
   "metadata": {
    "collapsed": true
   },
   "outputs": [],
   "source": []
  },
  {
   "cell_type": "code",
   "execution_count": null,
   "metadata": {
    "collapsed": true
   },
   "outputs": [],
   "source": []
  },
  {
   "cell_type": "code",
   "execution_count": null,
   "metadata": {
    "collapsed": true
   },
   "outputs": [],
   "source": []
  }
 ],
 "metadata": {
  "kernelspec": {
   "display_name": "Python 3",
   "language": "python",
   "name": "python3"
  },
  "language_info": {
   "codemirror_mode": {
    "name": "ipython",
    "version": 3
   },
   "file_extension": ".py",
   "mimetype": "text/x-python",
   "name": "python",
   "nbconvert_exporter": "python",
   "pygments_lexer": "ipython3",
   "version": "3.6.3"
  }
 },
 "nbformat": 4,
 "nbformat_minor": 2
}
