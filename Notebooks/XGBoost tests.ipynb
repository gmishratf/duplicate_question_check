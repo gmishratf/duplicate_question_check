{
 "cells": [
  {
   "cell_type": "code",
   "execution_count": 1,
   "metadata": {},
   "outputs": [],
   "source": [
    "import pandas as pd\n",
    "import numpy as np\n",
    "import xgboost\n",
    "#import matplotlib.pyplot as plt\n",
    "from sklearn.model_selection import train_test_split\n",
    "from sklearn.metrics import accuracy_score"
   ]
  },
  {
   "cell_type": "code",
   "execution_count": 2,
   "metadata": {},
   "outputs": [],
   "source": [
    "trainset = pd.read_pickle('../Features/Train/train_features', compression='gzip')"
   ]
  },
  {
   "cell_type": "code",
   "execution_count": 3,
   "metadata": {},
   "outputs": [],
   "source": [
    "train = pd.read_csv('../Data/train_cleaned.csv')"
   ]
  },
  {
   "cell_type": "code",
   "execution_count": 4,
   "metadata": {},
   "outputs": [],
   "source": [
    "labels = train.as_matrix()"
   ]
  },
  {
   "cell_type": "code",
   "execution_count": 5,
   "metadata": {},
   "outputs": [],
   "source": [
    "labels = labels[:, 5]"
   ]
  },
  {
   "cell_type": "code",
   "execution_count": 6,
   "metadata": {},
   "outputs": [
    {
     "data": {
      "text/plain": [
       "array([0, 0, 0, ..., 0, 0, 0], dtype=object)"
      ]
     },
     "execution_count": 6,
     "metadata": {},
     "output_type": "execute_result"
    }
   ],
   "source": [
    "labels"
   ]
  },
  {
   "cell_type": "code",
   "execution_count": 7,
   "metadata": {},
   "outputs": [
    {
     "data": {
      "text/plain": [
       "Index(['min_common_word_count', 'max_common_word_count',\n",
       "       'min_common_token_count', 'max_common_token_count', 'last_token_check',\n",
       "       'first_token_check', 'diff_tokens', 'avg_token_num', 'token_set_ratio',\n",
       "       'token_sort_ratio', 'fuzz_ratio', 'fuzz_partial_ratio',\n",
       "       'longest_substr_ratio', 'min_k_q', 'max_k_q', 'similar_neighbor_ratio',\n",
       "       'similar_neighbors', 'min_freq', 'max_freq', 'surplus_common',\n",
       "       'surplus_total', 'numeric_common', 'numeric_total', 'surplus_common',\n",
       "       'surplus_total', 'numeric_common', 'numeric_total', 'id', 'q1_hash',\n",
       "       'q2_hash', 'q1_freq', 'q2_freq', 'id', 'q1_hash', 'q2_hash', 'q1_freq',\n",
       "       'q2_freq', 'w_bigrams', 'w_trigrams', 'c_trigrams', 'c_quadgrams',\n",
       "       'compare', 'cwc_min', 'cwc_max', 'csc_min', 'csc_max', 'ctc_min',\n",
       "       'ctc_max', 'last_word_eq', 'first_word_eq', 'abs_len_diff', 'mean_len',\n",
       "       'token_set_ratio', 'token_sort_ratio', 'fuzz_ratio',\n",
       "       'fuzz_partial_ratio', 'longest_substr_ratio', 'min_kcore', 'max_kcore',\n",
       "       'common_neighbor_count', 'common_neighbor_ratio', 'min_freq',\n",
       "       'max_freq', 'euclidean', 'cosine', 'cosine_angle', 'canberra',\n",
       "       'correlation', 'avg_word_length_diff',\n",
       "       'avg_word_length_diff_with_spaces', 'sentence_length_diff_with_spaces',\n",
       "       'dup_words_diff', 'oov_words_diff', 'syllable_count_diff',\n",
       "       'lexicon_count_diff'],\n",
       "      dtype='object')"
      ]
     },
     "execution_count": 7,
     "metadata": {},
     "output_type": "execute_result"
    }
   ],
   "source": [
    "trainset.columns"
   ]
  },
  {
   "cell_type": "code",
   "execution_count": 8,
   "metadata": {},
   "outputs": [],
   "source": [
    "trainset.drop(['question1', 'question2', 'xgpred'], axis=1, inplace=True)"
   ]
  },
  {
   "cell_type": "code",
   "execution_count": 9,
   "metadata": {},
   "outputs": [
    {
     "data": {
      "text/plain": [
       "75"
      ]
     },
     "execution_count": 9,
     "metadata": {},
     "output_type": "execute_result"
    }
   ],
   "source": [
    "len(trainset.columns)"
   ]
  },
  {
   "cell_type": "markdown",
   "metadata": {},
   "source": [
    "t = dataset.drop(['syllable_count_diff', 'dup_words_diff', 'min_k_q', 'w_trigrams', 'avg_word_length_diff', 'avg_word_length_diff_with_spaces', 'sentence_length_diff_with_spaces', 'dup_words_diff', 'oov_words_diff', 'lexicon_count_diff'], axis=1)\n",
    "len(t.columns)"
   ]
  },
  {
   "cell_type": "code",
   "execution_count": 10,
   "metadata": {},
   "outputs": [],
   "source": [
    "arr_set = trainset.as_matrix()"
   ]
  },
  {
   "cell_type": "code",
   "execution_count": 11,
   "metadata": {},
   "outputs": [
    {
     "data": {
      "text/plain": [
       "(404290, 75)"
      ]
     },
     "execution_count": 11,
     "metadata": {},
     "output_type": "execute_result"
    }
   ],
   "source": [
    "arr_set.shape"
   ]
  },
  {
   "cell_type": "code",
   "execution_count": 12,
   "metadata": {},
   "outputs": [],
   "source": [
    "X = arr_set[:, 0:76]\n",
    "Y = labels"
   ]
  },
  {
   "cell_type": "code",
   "execution_count": 13,
   "metadata": {},
   "outputs": [
    {
     "data": {
      "text/plain": [
       "(404290, 75)"
      ]
     },
     "execution_count": 13,
     "metadata": {},
     "output_type": "execute_result"
    }
   ],
   "source": [
    "X.shape"
   ]
  },
  {
   "cell_type": "code",
   "execution_count": 14,
   "metadata": {},
   "outputs": [],
   "source": [
    "seed = np.random.seed(200)"
   ]
  },
  {
   "cell_type": "code",
   "execution_count": 15,
   "metadata": {},
   "outputs": [],
   "source": [
    "test_size = 0.2\n",
    "X_train, X_test, Y_train, Y_test = train_test_split(X, Y, test_size=test_size, random_state=seed)"
   ]
  },
  {
   "cell_type": "code",
   "execution_count": 16,
   "metadata": {},
   "outputs": [
    {
     "name": "stdout",
     "output_type": "stream",
     "text": [
      "[0]\tvalidation_0-logloss:0.639867\n",
      "[1]\tvalidation_0-logloss:0.595327\n",
      "[2]\tvalidation_0-logloss:0.558737\n",
      "[3]\tvalidation_0-logloss:0.527079\n",
      "[4]\tvalidation_0-logloss:0.500292\n",
      "[5]\tvalidation_0-logloss:0.477159\n",
      "[6]\tvalidation_0-logloss:0.456759\n",
      "[7]\tvalidation_0-logloss:0.439486\n",
      "[8]\tvalidation_0-logloss:0.424417\n",
      "[9]\tvalidation_0-logloss:0.410621\n",
      "[10]\tvalidation_0-logloss:0.398921\n",
      "[11]\tvalidation_0-logloss:0.387771\n",
      "[12]\tvalidation_0-logloss:0.377711\n",
      "[13]\tvalidation_0-logloss:0.369307\n",
      "[14]\tvalidation_0-logloss:0.362034\n",
      "[15]\tvalidation_0-logloss:0.35538\n",
      "[16]\tvalidation_0-logloss:0.349376\n",
      "[17]\tvalidation_0-logloss:0.344014\n",
      "[18]\tvalidation_0-logloss:0.338794\n",
      "[19]\tvalidation_0-logloss:0.334726\n",
      "[20]\tvalidation_0-logloss:0.330825\n",
      "[21]\tvalidation_0-logloss:0.327443\n",
      "[22]\tvalidation_0-logloss:0.323721\n",
      "[23]\tvalidation_0-logloss:0.320835\n",
      "[24]\tvalidation_0-logloss:0.318315\n",
      "[25]\tvalidation_0-logloss:0.316061\n",
      "[26]\tvalidation_0-logloss:0.313419\n",
      "[27]\tvalidation_0-logloss:0.311175\n",
      "[28]\tvalidation_0-logloss:0.30921\n",
      "[29]\tvalidation_0-logloss:0.307451\n",
      "[30]\tvalidation_0-logloss:0.305704\n",
      "[31]\tvalidation_0-logloss:0.303814\n",
      "[32]\tvalidation_0-logloss:0.301917\n",
      "[33]\tvalidation_0-logloss:0.300692\n",
      "[34]\tvalidation_0-logloss:0.298918\n",
      "[35]\tvalidation_0-logloss:0.297247\n",
      "[36]\tvalidation_0-logloss:0.296127\n",
      "[37]\tvalidation_0-logloss:0.294915\n",
      "[38]\tvalidation_0-logloss:0.294045\n",
      "[39]\tvalidation_0-logloss:0.292726\n",
      "[40]\tvalidation_0-logloss:0.29192\n",
      "[41]\tvalidation_0-logloss:0.291007\n",
      "[42]\tvalidation_0-logloss:0.289933\n",
      "[43]\tvalidation_0-logloss:0.28874\n",
      "[44]\tvalidation_0-logloss:0.288097\n",
      "[45]\tvalidation_0-logloss:0.287185\n",
      "[46]\tvalidation_0-logloss:0.286519\n",
      "[47]\tvalidation_0-logloss:0.285236\n",
      "[48]\tvalidation_0-logloss:0.28449\n",
      "[49]\tvalidation_0-logloss:0.284\n",
      "[50]\tvalidation_0-logloss:0.28354\n",
      "[51]\tvalidation_0-logloss:0.282435\n",
      "[52]\tvalidation_0-logloss:0.281556\n",
      "[53]\tvalidation_0-logloss:0.280883\n",
      "[54]\tvalidation_0-logloss:0.280046\n",
      "[55]\tvalidation_0-logloss:0.279342\n",
      "[56]\tvalidation_0-logloss:0.27893\n",
      "[57]\tvalidation_0-logloss:0.27833\n",
      "[58]\tvalidation_0-logloss:0.277725\n",
      "[59]\tvalidation_0-logloss:0.277281\n",
      "[60]\tvalidation_0-logloss:0.276979\n",
      "[61]\tvalidation_0-logloss:0.276378\n",
      "[62]\tvalidation_0-logloss:0.275848\n",
      "[63]\tvalidation_0-logloss:0.275245\n",
      "[64]\tvalidation_0-logloss:0.274745\n",
      "[65]\tvalidation_0-logloss:0.274409\n",
      "[66]\tvalidation_0-logloss:0.274149\n",
      "[67]\tvalidation_0-logloss:0.273701\n",
      "[68]\tvalidation_0-logloss:0.273345\n",
      "[69]\tvalidation_0-logloss:0.272959\n",
      "[70]\tvalidation_0-logloss:0.27254\n",
      "[71]\tvalidation_0-logloss:0.272298\n",
      "[72]\tvalidation_0-logloss:0.272041\n",
      "[73]\tvalidation_0-logloss:0.271597\n",
      "[74]\tvalidation_0-logloss:0.271371\n",
      "[75]\tvalidation_0-logloss:0.270961\n",
      "[76]\tvalidation_0-logloss:0.270471\n",
      "[77]\tvalidation_0-logloss:0.270199\n",
      "[78]\tvalidation_0-logloss:0.269804\n",
      "[79]\tvalidation_0-logloss:0.269614\n",
      "[80]\tvalidation_0-logloss:0.269354\n",
      "[81]\tvalidation_0-logloss:0.269001\n",
      "[82]\tvalidation_0-logloss:0.268833\n",
      "[83]\tvalidation_0-logloss:0.268458\n",
      "[84]\tvalidation_0-logloss:0.268195\n",
      "[85]\tvalidation_0-logloss:0.26784\n",
      "[86]\tvalidation_0-logloss:0.26764\n",
      "[87]\tvalidation_0-logloss:0.267387\n",
      "[88]\tvalidation_0-logloss:0.267121\n",
      "[89]\tvalidation_0-logloss:0.266874\n",
      "[90]\tvalidation_0-logloss:0.266573\n",
      "[91]\tvalidation_0-logloss:0.266431\n",
      "[92]\tvalidation_0-logloss:0.26608\n",
      "[93]\tvalidation_0-logloss:0.265787\n",
      "[94]\tvalidation_0-logloss:0.265641\n",
      "[95]\tvalidation_0-logloss:0.265452\n",
      "[96]\tvalidation_0-logloss:0.265126\n",
      "[97]\tvalidation_0-logloss:0.264942\n",
      "[98]\tvalidation_0-logloss:0.264689\n",
      "[99]\tvalidation_0-logloss:0.264543\n"
     ]
    },
    {
     "data": {
      "text/plain": [
       "XGBClassifier(base_score=0.5, booster='gbtree', colsample_bylevel=1,\n",
       "       colsample_bytree=1, gamma=0, gpu_id=0, learning_rate=0.1,\n",
       "       max_bin=16, max_delta_step=0, max_depth=3, min_child_weight=1,\n",
       "       missing=None, n_estimators=100, n_jobs=1, nthread=None,\n",
       "       objective='binary:logistic', random_state=0, reg_alpha=0,\n",
       "       reg_lambda=1, scale_pos_weight=1, seed=None, silent=True,\n",
       "       subsample=1, tree_method='gpu_hist')"
      ]
     },
     "execution_count": 16,
     "metadata": {},
     "output_type": "execute_result"
    }
   ],
   "source": [
    "eval_set = [(X_test, Y_test)]\n",
    "model = xgboost.XGBClassifier(gpu_id=0, max_bin=16, tree_method='gpu_hist', )\n",
    "model.fit(X_train, Y_train, eval_metric='logloss', eval_set=eval_set, verbose=True)"
   ]
  },
  {
   "cell_type": "code",
   "execution_count": 17,
   "metadata": {},
   "outputs": [
    {
     "data": {
      "text/plain": [
       "XGBClassifier(base_score=0.5, booster='gbtree', colsample_bylevel=1,\n",
       "       colsample_bytree=1, gamma=0, gpu_id=0, learning_rate=0.1,\n",
       "       max_bin=16, max_delta_step=0, max_depth=3, min_child_weight=1,\n",
       "       missing=None, n_estimators=100, n_jobs=1, nthread=None,\n",
       "       objective='binary:logistic', random_state=0, reg_alpha=0,\n",
       "       reg_lambda=1, scale_pos_weight=1, seed=None, silent=True,\n",
       "       subsample=1, tree_method='gpu_hist')"
      ]
     },
     "execution_count": 17,
     "metadata": {},
     "output_type": "execute_result"
    }
   ],
   "source": [
    "fmodel = xgboost.XGBClassifier(gpu_id=0, max_bin=16, tree_method='gpu_hist')\n",
    "fmodel.fit(X, Y, verbose=True)"
   ]
  },
  {
   "cell_type": "code",
   "execution_count": 18,
   "metadata": {},
   "outputs": [],
   "source": [
    "Y_pred = fmodel.predict(X)"
   ]
  },
  {
   "cell_type": "code",
   "execution_count": 19,
   "metadata": {},
   "outputs": [
    {
     "data": {
      "text/plain": [
       "array([0, 0, 0, ..., 1, 0, 1], dtype=object)"
      ]
     },
     "execution_count": 19,
     "metadata": {},
     "output_type": "execute_result"
    }
   ],
   "source": [
    "Y_pred"
   ]
  },
  {
   "cell_type": "code",
   "execution_count": 20,
   "metadata": {},
   "outputs": [],
   "source": [
    "testset = pd.read_pickle('../Features/Test/Test_Features', compression='gzip')"
   ]
  },
  {
   "cell_type": "code",
   "execution_count": 21,
   "metadata": {},
   "outputs": [
    {
     "name": "stdout",
     "output_type": "stream",
     "text": [
      "set()\n"
     ]
    }
   ],
   "source": [
    "print((set(testset.columns).union(set(trainset.columns)) - (set(testset.columns).intersection(trainset.columns))))"
   ]
  },
  {
   "cell_type": "code",
   "execution_count": 22,
   "metadata": {},
   "outputs": [],
   "source": [
    "X_t = testset.as_matrix()"
   ]
  },
  {
   "cell_type": "code",
   "execution_count": 23,
   "metadata": {},
   "outputs": [
    {
     "data": {
      "text/plain": [
       "(2345796, 75)"
      ]
     },
     "execution_count": 23,
     "metadata": {},
     "output_type": "execute_result"
    }
   ],
   "source": [
    "X_t.shape"
   ]
  },
  {
   "cell_type": "code",
   "execution_count": 24,
   "metadata": {},
   "outputs": [],
   "source": [
    "Y_t = fmodel.predict(X_t)"
   ]
  },
  {
   "cell_type": "code",
   "execution_count": 29,
   "metadata": {},
   "outputs": [
    {
     "data": {
      "text/plain": [
       "(2345796,)"
      ]
     },
     "execution_count": 29,
     "metadata": {},
     "output_type": "execute_result"
    }
   ],
   "source": [
    "Y_t.shape"
   ]
  },
  {
   "cell_type": "code",
   "execution_count": 26,
   "metadata": {},
   "outputs": [],
   "source": [
    "df_sub = pd.read_csv('../Data/sample_submission.csv')"
   ]
  },
  {
   "cell_type": "code",
   "execution_count": 27,
   "metadata": {},
   "outputs": [],
   "source": [
    "df_sub['is_duplicate'] = Y_t"
   ]
  },
  {
   "cell_type": "code",
   "execution_count": 28,
   "metadata": {},
   "outputs": [],
   "source": [
    "df_sub.to_csv('../XGPredictions.csv', index=False)"
   ]
  },
  {
   "cell_type": "code",
   "execution_count": null,
   "metadata": {},
   "outputs": [],
   "source": [
    "trainset['xgpred'] = Y_pred"
   ]
  },
  {
   "cell_type": "code",
   "execution_count": null,
   "metadata": {},
   "outputs": [],
   "source": [
    "testset['xgpred'] = Y_t"
   ]
  },
  {
   "cell_type": "code",
   "execution_count": null,
   "metadata": {},
   "outputs": [],
   "source": [
    "testset.to_csv('../Features/Test/Features_with_xgpred.csv')\n",
    "testset.to_pickle('../Features/Test/Features_with_xgpred', compression='gzip')"
   ]
  },
  {
   "cell_type": "code",
   "execution_count": null,
   "metadata": {},
   "outputs": [],
   "source": [
    "trainset.to_pickle('../Features/Train/Features_with_xgpred', compression='gzip')\n",
    "trainset.to_csv('../Features/Train/Features_with_xgpred.csv')"
   ]
  },
  {
   "cell_type": "code",
   "execution_count": null,
   "metadata": {},
   "outputs": [],
   "source": [
    "predictions = [round(value) for value in Y_pred]"
   ]
  },
  {
   "cell_type": "code",
   "execution_count": null,
   "metadata": {},
   "outputs": [],
   "source": [
    "accuracy = accuracy_score(Y_test, predictions)"
   ]
  },
  {
   "cell_type": "code",
   "execution_count": null,
   "metadata": {},
   "outputs": [],
   "source": [
    "print(\"Accuracy: %.2f%%\" % (accuracy*100.0))"
   ]
  },
  {
   "cell_type": "code",
   "execution_count": null,
   "metadata": {},
   "outputs": [],
   "source": [
    "dataset"
   ]
  },
  {
   "cell_type": "code",
   "execution_count": null,
   "metadata": {},
   "outputs": [],
   "source": [
    "Y_pred.size"
   ]
  },
  {
   "cell_type": "code",
   "execution_count": null,
   "metadata": {},
   "outputs": [],
   "source": [
    "dataset['xgb_pred'] = Y_pred"
   ]
  },
  {
   "cell_type": "code",
   "execution_count": null,
   "metadata": {},
   "outputs": [],
   "source": [
    "dataset"
   ]
  },
  {
   "cell_type": "code",
   "execution_count": null,
   "metadata": {},
   "outputs": [],
   "source": [
    "dataset.to_pickle('../Features/Train/With_XGB_preds', compression='gzip')"
   ]
  },
  {
   "cell_type": "code",
   "execution_count": null,
   "metadata": {},
   "outputs": [],
   "source": []
  }
 ],
 "metadata": {
  "kernelspec": {
   "display_name": "Python 3",
   "language": "python",
   "name": "python3"
  },
  "language_info": {
   "codemirror_mode": {
    "name": "ipython",
    "version": 3
   },
   "file_extension": ".py",
   "mimetype": "text/x-python",
   "name": "python",
   "nbconvert_exporter": "python",
   "pygments_lexer": "ipython3",
   "version": "3.6.3"
  }
 },
 "nbformat": 4,
 "nbformat_minor": 2
}
