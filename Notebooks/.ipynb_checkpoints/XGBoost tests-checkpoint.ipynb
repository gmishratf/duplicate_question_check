{
 "cells": [
  {
   "cell_type": "code",
   "execution_count": 1,
   "metadata": {},
   "outputs": [],
   "source": [
    "import pandas as pd\n",
    "import numpy as np\n",
    "import xgboost\n",
    "#import matplotlib.pyplot as plt\n",
    "from sklearn.model_selection import train_test_split\n",
    "from sklearn.metrics import accuracy_score"
   ]
  },
  {
   "cell_type": "code",
   "execution_count": 2,
   "metadata": {},
   "outputs": [],
   "source": [
    "trainset = pd.read_pickle('../Features/Train/Features_with_xgpred', compression='gzip')"
   ]
  },
  {
   "cell_type": "code",
   "execution_count": 3,
   "metadata": {},
   "outputs": [],
   "source": [
    "train = pd.read_csv('../Data/train_cleaned.csv')"
   ]
  },
  {
   "cell_type": "code",
   "execution_count": 4,
   "metadata": {},
   "outputs": [],
   "source": [
    "labels = train.as_matrix()"
   ]
  },
  {
   "cell_type": "code",
   "execution_count": 5,
   "metadata": {},
   "outputs": [],
   "source": [
    "labels = labels[:, 5]"
   ]
  },
  {
   "cell_type": "code",
   "execution_count": 6,
   "metadata": {},
   "outputs": [
    {
     "data": {
      "text/plain": [
       "array([0, 0, 0, ..., 0, 0, 0], dtype=object)"
      ]
     },
     "execution_count": 6,
     "metadata": {},
     "output_type": "execute_result"
    }
   ],
   "source": [
    "labels"
   ]
  },
  {
   "cell_type": "code",
   "execution_count": 7,
   "metadata": {},
   "outputs": [
    {
     "data": {
      "text/plain": [
       "Index(['min_common_word_count', 'max_common_word_count',\n",
       "       'min_common_token_count', 'max_common_token_count', 'last_token_check',\n",
       "       'first_token_check', 'diff_tokens', 'avg_token_num', 'token_set_ratio',\n",
       "       'token_sort_ratio', 'fuzz_ratio', 'fuzz_partial_ratio',\n",
       "       'longest_substr_ratio', 'min_k_q', 'max_k_q', 'similar_neighbor_ratio',\n",
       "       'similar_neighbors', 'min_freq', 'max_freq', 'surplus_common',\n",
       "       'surplus_total', 'numeric_common', 'numeric_total', 'surplus_common',\n",
       "       'surplus_total', 'numeric_common', 'numeric_total', 'id', 'q1_hash',\n",
       "       'q2_hash', 'q1_freq', 'q2_freq', 'id', 'q1_hash', 'q2_hash', 'q1_freq',\n",
       "       'q2_freq', 'w_bigrams', 'w_trigrams', 'c_trigrams', 'c_quadgrams',\n",
       "       'compare', 'cwc_min', 'cwc_max', 'csc_min', 'csc_max', 'ctc_min',\n",
       "       'ctc_max', 'last_word_eq', 'first_word_eq', 'abs_len_diff', 'mean_len',\n",
       "       'token_set_ratio', 'token_sort_ratio', 'fuzz_ratio',\n",
       "       'fuzz_partial_ratio', 'longest_substr_ratio', 'min_kcore', 'max_kcore',\n",
       "       'common_neighbor_count', 'common_neighbor_ratio', 'min_freq',\n",
       "       'max_freq', 'euclidean', 'cosine', 'cosine_angle', 'canberra',\n",
       "       'correlation', 'avg_word_length_diff',\n",
       "       'avg_word_length_diff_with_spaces', 'sentence_length_diff_with_spaces',\n",
       "       'dup_words_diff', 'oov_words_diff', 'syllable_count_diff',\n",
       "       'lexicon_count_diff', 'xgpred'],\n",
       "      dtype='object')"
      ]
     },
     "execution_count": 7,
     "metadata": {},
     "output_type": "execute_result"
    }
   ],
   "source": [
    "trainset.columns"
   ]
  },
  {
   "cell_type": "code",
   "execution_count": 8,
   "metadata": {},
   "outputs": [],
   "source": [
    "trainset.drop(['question1', 'question2'], axis=1, inplace=True)"
   ]
  },
  {
   "cell_type": "code",
   "execution_count": 9,
   "metadata": {},
   "outputs": [
    {
     "data": {
      "text/plain": [
       "76"
      ]
     },
     "execution_count": 9,
     "metadata": {},
     "output_type": "execute_result"
    }
   ],
   "source": [
    "len(trainset.columns)"
   ]
  },
  {
   "cell_type": "markdown",
   "metadata": {},
   "source": [
    "t = dataset.drop(['syllable_count_diff', 'dup_words_diff', 'min_k_q', 'w_trigrams', 'avg_word_length_diff', 'avg_word_length_diff_with_spaces', 'sentence_length_diff_with_spaces', 'dup_words_diff', 'oov_words_diff', 'lexicon_count_diff'], axis=1)\n",
    "len(t.columns)"
   ]
  },
  {
   "cell_type": "code",
   "execution_count": 11,
   "metadata": {},
   "outputs": [],
   "source": [
    "arr_set = trainset.as_matrix()"
   ]
  },
  {
   "cell_type": "code",
   "execution_count": 12,
   "metadata": {},
   "outputs": [
    {
     "data": {
      "text/plain": [
       "(404290, 76)"
      ]
     },
     "execution_count": 12,
     "metadata": {},
     "output_type": "execute_result"
    }
   ],
   "source": [
    "arr_set.shape"
   ]
  },
  {
   "cell_type": "code",
   "execution_count": 13,
   "metadata": {},
   "outputs": [],
   "source": [
    "X = arr_set[:, 0:76]\n",
    "Y = labels"
   ]
  },
  {
   "cell_type": "code",
   "execution_count": 14,
   "metadata": {},
   "outputs": [
    {
     "data": {
      "text/plain": [
       "(404290, 76)"
      ]
     },
     "execution_count": 14,
     "metadata": {},
     "output_type": "execute_result"
    }
   ],
   "source": [
    "X.shape"
   ]
  },
  {
   "cell_type": "code",
   "execution_count": 15,
   "metadata": {},
   "outputs": [],
   "source": [
    "seed = np.random.seed(200)"
   ]
  },
  {
   "cell_type": "code",
   "execution_count": 16,
   "metadata": {},
   "outputs": [],
   "source": [
    "test_size = 0.2\n",
    "X_train, X_test, Y_train, Y_test = train_test_split(X, Y, test_size=test_size, random_state=seed)"
   ]
  },
  {
   "cell_type": "code",
   "execution_count": 17,
   "metadata": {},
   "outputs": [
    {
     "name": "stdout",
     "output_type": "stream",
     "text": [
      "[0]\tvalidation_0-logloss:0.63344\n",
      "[1]\tvalidation_0-logloss:0.58465\n",
      "[2]\tvalidation_0-logloss:0.544126\n",
      "[3]\tvalidation_0-logloss:0.510133\n",
      "[4]\tvalidation_0-logloss:0.481316\n",
      "[5]\tvalidation_0-logloss:0.456801\n",
      "[6]\tvalidation_0-logloss:0.435777\n",
      "[7]\tvalidation_0-logloss:0.417594\n",
      "[8]\tvalidation_0-logloss:0.401918\n",
      "[9]\tvalidation_0-logloss:0.388318\n",
      "[10]\tvalidation_0-logloss:0.3765\n",
      "[11]\tvalidation_0-logloss:0.366013\n",
      "[12]\tvalidation_0-logloss:0.356918\n",
      "[13]\tvalidation_0-logloss:0.348976\n",
      "[14]\tvalidation_0-logloss:0.341867\n",
      "[15]\tvalidation_0-logloss:0.335649\n",
      "[16]\tvalidation_0-logloss:0.330158\n",
      "[17]\tvalidation_0-logloss:0.325316\n",
      "[18]\tvalidation_0-logloss:0.321035\n",
      "[19]\tvalidation_0-logloss:0.317465\n",
      "[20]\tvalidation_0-logloss:0.314209\n",
      "[21]\tvalidation_0-logloss:0.311347\n",
      "[22]\tvalidation_0-logloss:0.308746\n",
      "[23]\tvalidation_0-logloss:0.306378\n",
      "[24]\tvalidation_0-logloss:0.304259\n",
      "[25]\tvalidation_0-logloss:0.302313\n",
      "[26]\tvalidation_0-logloss:0.3003\n",
      "[27]\tvalidation_0-logloss:0.298673\n",
      "[28]\tvalidation_0-logloss:0.297251\n",
      "[29]\tvalidation_0-logloss:0.295951\n",
      "[30]\tvalidation_0-logloss:0.29454\n",
      "[31]\tvalidation_0-logloss:0.293225\n",
      "[32]\tvalidation_0-logloss:0.292079\n",
      "[33]\tvalidation_0-logloss:0.291148\n",
      "[34]\tvalidation_0-logloss:0.290322\n",
      "[35]\tvalidation_0-logloss:0.289265\n",
      "[36]\tvalidation_0-logloss:0.288527\n",
      "[37]\tvalidation_0-logloss:0.287851\n",
      "[38]\tvalidation_0-logloss:0.2869\n",
      "[39]\tvalidation_0-logloss:0.28599\n",
      "[40]\tvalidation_0-logloss:0.285426\n",
      "[41]\tvalidation_0-logloss:0.284687\n",
      "[42]\tvalidation_0-logloss:0.284189\n",
      "[43]\tvalidation_0-logloss:0.283729\n",
      "[44]\tvalidation_0-logloss:0.283237\n",
      "[45]\tvalidation_0-logloss:0.282698\n",
      "[46]\tvalidation_0-logloss:0.282121\n",
      "[47]\tvalidation_0-logloss:0.281726\n",
      "[48]\tvalidation_0-logloss:0.281152\n",
      "[49]\tvalidation_0-logloss:0.28074\n",
      "[50]\tvalidation_0-logloss:0.280342\n",
      "[51]\tvalidation_0-logloss:0.280064\n",
      "[52]\tvalidation_0-logloss:0.279516\n",
      "[53]\tvalidation_0-logloss:0.279097\n",
      "[54]\tvalidation_0-logloss:0.278649\n",
      "[55]\tvalidation_0-logloss:0.278226\n",
      "[56]\tvalidation_0-logloss:0.277792\n",
      "[57]\tvalidation_0-logloss:0.27752\n",
      "[58]\tvalidation_0-logloss:0.277282\n",
      "[59]\tvalidation_0-logloss:0.277088\n",
      "[60]\tvalidation_0-logloss:0.27669\n",
      "[61]\tvalidation_0-logloss:0.276315\n",
      "[62]\tvalidation_0-logloss:0.275965\n",
      "[63]\tvalidation_0-logloss:0.275618\n",
      "[64]\tvalidation_0-logloss:0.275362\n",
      "[65]\tvalidation_0-logloss:0.275151\n",
      "[66]\tvalidation_0-logloss:0.274908\n",
      "[67]\tvalidation_0-logloss:0.274503\n",
      "[68]\tvalidation_0-logloss:0.274332\n",
      "[69]\tvalidation_0-logloss:0.274127\n",
      "[70]\tvalidation_0-logloss:0.273903\n",
      "[71]\tvalidation_0-logloss:0.273605\n",
      "[72]\tvalidation_0-logloss:0.273432\n",
      "[73]\tvalidation_0-logloss:0.273154\n",
      "[74]\tvalidation_0-logloss:0.273032\n",
      "[75]\tvalidation_0-logloss:0.272764\n",
      "[76]\tvalidation_0-logloss:0.272503\n",
      "[77]\tvalidation_0-logloss:0.272272\n",
      "[78]\tvalidation_0-logloss:0.272138\n",
      "[79]\tvalidation_0-logloss:0.271963\n",
      "[80]\tvalidation_0-logloss:0.271783\n",
      "[81]\tvalidation_0-logloss:0.271569\n",
      "[82]\tvalidation_0-logloss:0.271195\n",
      "[83]\tvalidation_0-logloss:0.270975\n",
      "[84]\tvalidation_0-logloss:0.270839\n",
      "[85]\tvalidation_0-logloss:0.270592\n",
      "[86]\tvalidation_0-logloss:0.270466\n",
      "[87]\tvalidation_0-logloss:0.270308\n",
      "[88]\tvalidation_0-logloss:0.270123\n",
      "[89]\tvalidation_0-logloss:0.269629\n",
      "[90]\tvalidation_0-logloss:0.269225\n",
      "[91]\tvalidation_0-logloss:0.269092\n",
      "[92]\tvalidation_0-logloss:0.268925\n",
      "[93]\tvalidation_0-logloss:0.268834\n",
      "[94]\tvalidation_0-logloss:0.268499\n",
      "[95]\tvalidation_0-logloss:0.268279\n",
      "[96]\tvalidation_0-logloss:0.267997\n",
      "[97]\tvalidation_0-logloss:0.267708\n",
      "[98]\tvalidation_0-logloss:0.267617\n",
      "[99]\tvalidation_0-logloss:0.267503\n"
     ]
    },
    {
     "data": {
      "text/plain": [
       "XGBClassifier(base_score=0.5, booster='gbtree', colsample_bylevel=1,\n",
       "       colsample_bytree=1, gamma=0, gpu_id=0, learning_rate=0.1,\n",
       "       max_bin=16, max_delta_step=0, max_depth=3, min_child_weight=1,\n",
       "       missing=None, n_estimators=100, n_jobs=1, nthread=None,\n",
       "       objective='binary:logistic', random_state=0, reg_alpha=0,\n",
       "       reg_lambda=1, scale_pos_weight=1, seed=None, silent=True,\n",
       "       subsample=1, tree_method='gpu_hist')"
      ]
     },
     "execution_count": 17,
     "metadata": {},
     "output_type": "execute_result"
    }
   ],
   "source": [
    "eval_set = [(X_test, Y_test)]\n",
    "model = xgboost.XGBClassifier(gpu_id=0, max_bin=16, tree_method='gpu_hist')\n",
    "model.fit(X_train, Y_train, eval_metric='logloss', eval_set=eval_set, verbose=True)"
   ]
  },
  {
   "cell_type": "code",
   "execution_count": null,
   "metadata": {},
   "outputs": [],
   "source": [
    "fmodel = xgboost.XGBClassifier(gpu_id=0, max_bin=16, tree_method='gpu_hist')\n",
    "fmodel.fit(X, Y, verbose=True)"
   ]
  },
  {
   "cell_type": "code",
   "execution_count": null,
   "metadata": {},
   "outputs": [],
   "source": [
    "Y_pred = model.predict(X)"
   ]
  },
  {
   "cell_type": "code",
   "execution_count": null,
   "metadata": {},
   "outputs": [],
   "source": [
    "Y_pred"
   ]
  },
  {
   "cell_type": "code",
   "execution_count": null,
   "metadata": {},
   "outputs": [],
   "source": [
    "testset = pd.read_pickle('../Features/Test/Test_Features', compression='gzip')"
   ]
  },
  {
   "cell_type": "code",
   "execution_count": null,
   "metadata": {},
   "outputs": [],
   "source": [
    "X_test = testset.as_matrix()"
   ]
  },
  {
   "cell_type": "code",
   "execution_count": null,
   "metadata": {},
   "outputs": [],
   "source": [
    "Y_t = model.predict(X_test)"
   ]
  },
  {
   "cell_type": "code",
   "execution_count": null,
   "metadata": {},
   "outputs": [],
   "source": [
    "Y_t"
   ]
  },
  {
   "cell_type": "code",
   "execution_count": null,
   "metadata": {},
   "outputs": [],
   "source": [
    "trainset['xgpred'] = Y_pred"
   ]
  },
  {
   "cell_type": "code",
   "execution_count": null,
   "metadata": {},
   "outputs": [],
   "source": [
    "testset['xgpred'] = Y_t"
   ]
  },
  {
   "cell_type": "code",
   "execution_count": null,
   "metadata": {},
   "outputs": [],
   "source": [
    "testset.to_csv('../Features/Test/Features_with_xgpred.csv')\n",
    "testset.to_pickle('../Features/Test/Features_with_xgpred', compression='gzip')"
   ]
  },
  {
   "cell_type": "code",
   "execution_count": null,
   "metadata": {},
   "outputs": [],
   "source": [
    "trainset.to_pickle('../Features/Train/Features_with_xgpred', compression='gzip')\n",
    "trainset.to_csv('../Features/Train/Features_with_xgpred.csv')"
   ]
  },
  {
   "cell_type": "code",
   "execution_count": null,
   "metadata": {},
   "outputs": [],
   "source": [
    "predictions = [round(value) for value in Y_pred]"
   ]
  },
  {
   "cell_type": "code",
   "execution_count": null,
   "metadata": {},
   "outputs": [],
   "source": [
    "accuracy = accuracy_score(Y_test, predictions)"
   ]
  },
  {
   "cell_type": "code",
   "execution_count": null,
   "metadata": {},
   "outputs": [],
   "source": [
    "print(\"Accuracy: %.2f%%\" % (accuracy*100.0))"
   ]
  },
  {
   "cell_type": "code",
   "execution_count": null,
   "metadata": {},
   "outputs": [],
   "source": [
    "dataset"
   ]
  },
  {
   "cell_type": "code",
   "execution_count": null,
   "metadata": {},
   "outputs": [],
   "source": [
    "Y_pred.size"
   ]
  },
  {
   "cell_type": "code",
   "execution_count": null,
   "metadata": {},
   "outputs": [],
   "source": [
    "dataset['xgb_pred'] = Y_pred"
   ]
  },
  {
   "cell_type": "code",
   "execution_count": null,
   "metadata": {},
   "outputs": [],
   "source": [
    "dataset"
   ]
  },
  {
   "cell_type": "code",
   "execution_count": null,
   "metadata": {},
   "outputs": [],
   "source": [
    "dataset.to_pickle('../Features/Train/With_XGB_preds', compression='gzip')"
   ]
  },
  {
   "cell_type": "code",
   "execution_count": null,
   "metadata": {},
   "outputs": [],
   "source": []
  }
 ],
 "metadata": {
  "kernelspec": {
   "display_name": "Python 3",
   "language": "python",
   "name": "python3"
  },
  "language_info": {
   "codemirror_mode": {
    "name": "ipython",
    "version": 3
   },
   "file_extension": ".py",
   "mimetype": "text/x-python",
   "name": "python",
   "nbconvert_exporter": "python",
   "pygments_lexer": "ipython3",
   "version": "3.6.3"
  }
 },
 "nbformat": 4,
 "nbformat_minor": 2
}
